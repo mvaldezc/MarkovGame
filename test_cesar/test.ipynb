{
 "cells": [
  {
   "cell_type": "code",
   "execution_count": 19,
   "metadata": {},
   "outputs": [],
   "source": [
    "import numpy as np\n",
    "from scipy.optimize import linprog"
   ]
  },
  {
   "cell_type": "code",
   "execution_count": 20,
   "metadata": {},
   "outputs": [],
   "source": [
    "INF_CONST = 100_000"
   ]
  },
  {
   "cell_type": "code",
   "execution_count": 36,
   "metadata": {},
   "outputs": [
    {
     "data": {
      "text/plain": [
       "array([[ 0, -1,  1],\n",
       "       [ 1,  0, -1],\n",
       "       [-1,  1,  0]])"
      ]
     },
     "execution_count": 36,
     "metadata": {},
     "output_type": "execute_result"
    }
   ],
   "source": [
    "# finding the nash equilibrium for rock paper scisors using mixed strategies\n",
    "A = np.array([\n",
    "    [0, -1, 1],\n",
    "    [1, 0, -1],\n",
    "    [-1, 1, 0],\n",
    "])\n",
    "A"
   ]
  },
  {
   "cell_type": "code",
   "execution_count": 37,
   "metadata": {},
   "outputs": [],
   "source": [
    "Nx = 3\n",
    "Nu = 3\n",
    "c = np.array([0.0, 0.0, 0.0, 1.0])\n",
    "# c = c[np.newaxis, :] # not sure about shape\n",
    "A_ub = np.c_[A, -np.ones( A.shape[0] )]\n",
    "b_ub = np.zeros(A.shape[1])\n",
    "\n",
    "A_eq = np.array([[1.0, 1.0, 1.0, 0.0]])\n",
    "A_eq.shape\n",
    "b_eq = np.array([1.0])\n",
    "\n",
    "l_b = np.array([0.0, 0.0, 0.0, -INF_CONST])\n",
    "u_b = np.array([1.0, 1.0, 1.0, INF_CONST])\n",
    "\n",
    "bounds = [(0, 1), (0, 1), (0, 1), (-np.inf, np.inf)]"
   ]
  },
  {
   "cell_type": "code",
   "execution_count": 38,
   "metadata": {},
   "outputs": [
    {
     "data": {
      "text/plain": [
       "        message: Optimization terminated successfully. (HiGHS Status 7: Optimal)\n",
       "        success: True\n",
       "         status: 0\n",
       "            fun: 0.0\n",
       "              x: [ 3.333e-01  3.333e-01  3.333e-01 -0.000e+00]\n",
       "            nit: 4\n",
       "          lower:  residual: [ 3.333e-01  3.333e-01  3.333e-01        inf]\n",
       "                 marginals: [ 0.000e+00  0.000e+00  0.000e+00  0.000e+00]\n",
       "          upper:  residual: [ 6.667e-01  6.667e-01  6.667e-01        inf]\n",
       "                 marginals: [ 0.000e+00  0.000e+00  0.000e+00  0.000e+00]\n",
       "          eqlin:  residual: [ 0.000e+00]\n",
       "                 marginals: [-0.000e+00]\n",
       "        ineqlin:  residual: [ 0.000e+00  0.000e+00  0.000e+00]\n",
       "                 marginals: [-3.333e-01 -3.333e-01 -3.333e-01]\n",
       " mip_node_count: 0\n",
       " mip_dual_bound: 0.0\n",
       "        mip_gap: 0.0"
      ]
     },
     "execution_count": 38,
     "metadata": {},
     "output_type": "execute_result"
    }
   ],
   "source": [
    "linprog(c=c, A_ub=A_ub, b_ub=b_ub, A_eq=A_eq, b_eq=b_eq, bounds=bounds)"
   ]
  },
  {
   "cell_type": "code",
   "execution_count": null,
   "metadata": {},
   "outputs": [],
   "source": []
  },
  {
   "cell_type": "code",
   "execution_count": null,
   "metadata": {},
   "outputs": [],
   "source": []
  },
  {
   "cell_type": "code",
   "execution_count": null,
   "metadata": {},
   "outputs": [],
   "source": []
  },
  {
   "cell_type": "code",
   "execution_count": null,
   "metadata": {},
   "outputs": [],
   "source": []
  },
  {
   "cell_type": "code",
   "execution_count": null,
   "metadata": {},
   "outputs": [],
   "source": []
  },
  {
   "attachments": {},
   "cell_type": "markdown",
   "metadata": {},
   "source": []
  }
 ],
 "metadata": {
  "kernelspec": {
   "display_name": "Python 3.8.10 ('.venv': venv)",
   "language": "python",
   "name": "python3"
  },
  "language_info": {
   "codemirror_mode": {
    "name": "ipython",
    "version": 3
   },
   "file_extension": ".py",
   "mimetype": "text/x-python",
   "name": "python",
   "nbconvert_exporter": "python",
   "pygments_lexer": "ipython3",
   "version": "3.8.10"
  },
  "orig_nbformat": 4,
  "vscode": {
   "interpreter": {
    "hash": "2bb12f44722aec9848e9ccad4a70686e0f371bf492d7adb8831556489a1eb667"
   }
  }
 },
 "nbformat": 4,
 "nbformat_minor": 2
}
