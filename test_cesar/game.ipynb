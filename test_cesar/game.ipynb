{
 "cells": [
  {
   "cell_type": "code",
   "execution_count": 79,
   "metadata": {},
   "outputs": [
    {
     "name": "stdout",
     "output_type": "stream",
     "text": [
      "Time: 5\n",
      "Time: 4\n",
      "Time: 3\n",
      "Time: 2\n",
      "Time: 1\n"
     ]
    }
   ],
   "source": [
    "# Here we assume a 2D grid world with only 2 players.\n",
    "\n",
    "# X_t = [X^1_t, X^2_t]; player 1 and player 2 state\n",
    "# X^i_t = [pos_x; pos_y]; position in the grid world in X and in Y\n",
    "# U_t = [U^1_t, U^2_t] \\in R^4\n",
    "# Transition: X_{t+1} = X_t + U_t\n",
    "\n",
    "import numpy as np\n",
    "from scipy.optimize import linprog\n",
    "import pdb\n",
    "\n",
    "\n",
    "TERMINAL_REWARD = -100 # from the perspective of the prey\n",
    "\n",
    "def get_terminal_reward(x_pos):\n",
    "    # x: (Nx,)\n",
    "    x1 = x_pos[0 : 2]\n",
    "    x2 = x_pos[2 : 4]\n",
    "\n",
    "    if all( x1 != x2 ):\n",
    "        return TERMINAL_REWARD\n",
    "    else:\n",
    "        return - TERMINAL_REWARD\n",
    "\n",
    "def fill_terminal_value_function(V, Nx, N_grid):\n",
    "    # Modifies V in-place\n",
    "    for ii in range(0, Nx):\n",
    "        x_pos = decode_state(ii, N_grid)\n",
    "        V[-1, ii] = get_terminal_reward(x_pos)\n",
    "\n",
    "def solve_matrix_game(A, x_pos):\n",
    "\n",
    "    Ny = A.shape[1]\n",
    "    Nx = A.shape[0]\n",
    "\n",
    "    # we solve for player 2 first\n",
    "    c = np.concatenate( ( np.zeros( Ny ), [1.0] ) )\n",
    "    A_ub = np.c_[ A, -np.ones( Nx ) ]\n",
    "    b_ub = np.zeros( Nx )\n",
    "\n",
    "    A_eq = np.concatenate( ( np.ones( Ny ), [0.0] ) )\n",
    "    A_eq = A_eq[np.newaxis, :] # format required by LP\n",
    "    b_eq = np.array( [1.0] )\n",
    "\n",
    "    l_b = np.concatenate( ( np.zeros( Ny ), [ -np.inf ] ) )\n",
    "    u_b = np.concatenate( ( np.ones( Ny ), [ np.inf ] ) )\n",
    "    bounds = np.column_stack( ( l_b, u_b ) )\n",
    "\n",
    "    # solve the linear program for player 2\n",
    "    res = linprog(c=c, A_ub=A_ub, b_ub=b_ub, A_eq=A_eq, b_eq=b_eq, bounds=bounds)\n",
    "    # print(res)\n",
    "    u2_prob = res.x[: -1]\n",
    "\n",
    "    # now we solve a simpler linear program for player 1\n",
    "    l = - A @ u2_prob # minus so we min instead of max\n",
    "    l_b = np.zeros( Nx )\n",
    "    u_b = np.ones( Nx )\n",
    "    A_eq = np.ones( ( 1, Nx ) )\n",
    "    b_eq = np.array( [ 1.0 ] )\n",
    "    bounds = np.column_stack( ( l_b, u_b) )\n",
    "    res_2 = linprog(c=l, bounds=bounds, A_eq=A_eq, b_eq=b_eq)\n",
    "    u1_prob = res_2.x\n",
    "\n",
    "    value = u1_prob @ ( A @ u2_prob )\n",
    "\n",
    "    # pdb.set_trace()\n",
    "\n",
    "    return u1_prob, u2_prob, value\n",
    "\n",
    "def is_inside_grid(x_pos, N_grid):\n",
    "    # assumes square 2D grid\n",
    "    cond_1 = ( x_pos[0] >= 0 ) and ( x_pos[1] >= 0 )\n",
    "    cond_2 = ( x_pos[0] < N_grid ) and ( x_pos[1] < N_grid)\n",
    "    if cond_1 and cond_2:\n",
    "        return True\n",
    "    else:\n",
    "        return False\n",
    "\n",
    "def single_valid(x_pos, u_pos, N_grid):\n",
    "    x_new = x_pos + u_pos\n",
    "    return is_inside_grid(x_new, N_grid)\n",
    "\n",
    "def is_valid_action(x_pos, u1_pos, u2_pos, N_grid):\n",
    "    x1_pos = x_pos[ 0 : 2 ]\n",
    "    x2_pos = x_pos[ 2 : 4 ]\n",
    "\n",
    "    c1 = single_valid(x1_pos, u1_pos, N_grid)\n",
    "    c2 = single_valid(x2_pos, u2_pos, N_grid)\n",
    "\n",
    "    return c1 and c2\n",
    "\n",
    "def get_next_state( x_pos, u1_pos, u2_pos):\n",
    "    u_pos = np.concatenate( ( u1_pos, u2_pos ) )\n",
    "    return x_pos + u_pos\n",
    "\n",
    "def get_instant_reward( x_pos, u1_pos, u2_pos ):\n",
    "    x1 = x_pos[ 0 : 2 ]\n",
    "    x2 = x_pos[ 2 : 4 ]\n",
    "    return np.linalg.norm( x1 - x2, ord=2 )\n",
    "\n",
    "def encode_state( x_pos, N_grid ):\n",
    "    row_idx_p1 = x_pos[0]\n",
    "    col_idx_p1 = x_pos[1]\n",
    "    x_p1 = row_idx_p1 * N_grid + col_idx_p1\n",
    "\n",
    "    row_idx_p2 = x_pos[2]\n",
    "    col_idx_p2 = x_pos[3]\n",
    "    x_p2 = row_idx_p2 * N_grid + col_idx_p2\n",
    "\n",
    "    N_meta_grid = N_grid ** 2\n",
    "    x = x_p1 * N_meta_grid + x_p2\n",
    "\n",
    "    return x\n",
    "\n",
    "def decode_state( x, N_grid ):\n",
    "    # Decode the state to get player indices\n",
    "    player1_index = x // (N_grid**2)\n",
    "    player2_index = x % (N_grid**2)\n",
    "\n",
    "    # Convert player indices to positions\n",
    "    player1_position = np.array([player1_index // N_grid, player1_index % N_grid])\n",
    "    player2_position = np.array([player2_index // N_grid, player2_index % N_grid])\n",
    "\n",
    "    # Combine player positions into a single array\n",
    "    x_pos = np.concatenate([player1_position, player2_position])\n",
    "\n",
    "    return x_pos\n",
    "\n",
    "\n",
    "def decode_action( u ):\n",
    "    U = np.array([\n",
    "        [-1, -1],\n",
    "        [-1, 0],\n",
    "        [-1, 1],\n",
    "        [0, -1],\n",
    "        [0, 0],\n",
    "        [0, 1],\n",
    "        [1, -1],\n",
    "        [1, 0],\n",
    "        [1, 1],\n",
    "    ])\n",
    "    return U[u, :]\n",
    "\n",
    "def one_step_bdp(Nx, Nu, V, N_grid):\n",
    "    # V is the previous\n",
    "    VV = np.zeros( Nx )\n",
    "    # Uopt = np.zeros((Nx, Nu, Nu), dtype=np.int32)\n",
    "    U_opt_p1 = np.zeros( ( Nx, Nu ), dtype=np.int32 )\n",
    "    U_opt_p2 = np.zeros( ( Nx, Nu ), dtype=np.int32 )\n",
    "    # A = np.zeros((Nu, Nu)) # for the matrix game\n",
    "    # A_u_idx = [ ]\n",
    "    for x in range(Nx):\n",
    "        A = [ ]\n",
    "        u1_values = [ ]\n",
    "        u2_values = [ ]\n",
    "        x_pos = decode_state(x, N_grid)\n",
    "        # print(\"x: \" + str(x))\n",
    "        for u1 in range(Nu): # for player 1\n",
    "            u1_pos = decode_action( u1 )\n",
    "            if single_valid(x_pos[0:2], u1_pos, N_grid):\n",
    "                u1_values.append(u1)\n",
    "                curr_col = [ ]\n",
    "                for u2 in range(Nu): # for player 2\n",
    "                    u2_pos = decode_action( u2 )\n",
    "                    if single_valid(x_pos[2:4], u2_pos, N_grid):\n",
    "                        y_pos = get_next_state( x_pos, u1_pos, u2_pos )\n",
    "                        y = encode_state( y_pos, N_grid )\n",
    "                        curr_val = get_instant_reward( x_pos, u1_pos, u2_pos ) + V[y]\n",
    "                        curr_col.append(curr_val)\n",
    "\n",
    "                        if not (u2 in u2_values):\n",
    "                            u2_values.append(u2)\n",
    "\n",
    "                if len( curr_col ) != 0:\n",
    "                    A.append( curr_col )\n",
    "        \n",
    "        # solve the matrix game\n",
    "        # u_eq is a tuple, r from the perspective of P1(prey)\n",
    "        # A =  np.transpose( np.array(A) )\n",
    "        A = np.array(A) # Check this, I was sure I required a transpose\n",
    "        # print(\"before solve matrix\")\n",
    "        u1_prob, u2_prob, r = solve_matrix_game( A, x_pos )\n",
    "    \n",
    "        \n",
    "\n",
    "        # Extend probability vector so that it has 9 valus\n",
    "        u1_prob_full = np.zeros(9)\n",
    "        u2_prob_full = np.zeros(9)\n",
    "        # print(\"u1_values\")\n",
    "        # print(u1_values)\n",
    "        # print(\"u2_values\")\n",
    "        # print(u2_values)\n",
    "\n",
    "        # pdb.set_trace()\n",
    "\n",
    "        u1_prob_full[u1_values] = u1_prob\n",
    "        u2_prob_full[u2_values] = u2_prob\n",
    "        # print(\"here\")\n",
    "\n",
    "\n",
    "        VV[x] = r\n",
    "        U_opt_p1[x, :] = u1_prob_full\n",
    "        U_opt_p2[x, :] = u2_prob_full\n",
    "    \n",
    "    return VV, U_opt_p1, U_opt_p2\n",
    "\n",
    "\n",
    "# Main Function\n",
    "T = 5\n",
    "# Assuming a square grid without obstacles\n",
    "N_grid = 6 # number of blocks in any axis of the grid\n",
    "Nx = ( N_grid ** 2) * ( N_grid ** 2)\n",
    "Nu = 3* 3 # actions of one of the players\n",
    "\n",
    "# Value function\n",
    "V = -np.ones( ( T + 1, Nx )) # space for value functions\n",
    "fill_terminal_value_function(V, Nx, N_grid)\n",
    "\n",
    "U_t_p1 = -np.ones( ( T, Nx, Nu ), dtype=np.int32 ) # space for optimal actions\n",
    "U_t_p2 = -np.ones( ( T, Nx, Nu ), dtype=np.int32 ) # space for optimal actions\n",
    "\n",
    "\n",
    "for t in range( T, 0, -1 ):\n",
    "    print(\"Time: \" + str( t ) )\n",
    "    vv, u_opt_p1, u_opt_p2 = one_step_bdp(Nx, Nu, V[t, :], N_grid)\n",
    "    V[t-1, :] = vv\n",
    "    U_t_p1[t-1, :, :] = u_opt_p1\n",
    "    U_t_p2[t-1, :, :] = u_opt_p2\n",
    "    # V[T-1, :], Uopt[t-1, :] = one_step_bdp(Nx, Nu, V[t, :])\n"
   ]
  },
  {
   "cell_type": "code",
   "execution_count": 80,
   "metadata": {},
   "outputs": [],
   "source": [
    "def run_game(U_t_p1, U_t_p2, x0_pos, N_grid, T):\n",
    "    x0_enc = encode_state(x0_pos, N_grid)\n",
    "    x_path = np.zeros((T + 1, 4))\n",
    "    x_path[0, :] = x0_pos\n",
    "\n",
    "    for ii in range(0, T):\n",
    "        print(\"Stage: \", ii)\n",
    "        x = int( encode_state(x_path[ii, :], N_grid) )\n",
    "        # print('x_ini: ', x_path[ii, :])\n",
    "        # print(x)\n",
    "        u1_prob = U_t_p1[ii, x, :]\n",
    "        u2_prob = U_t_p2[ii, x, :]\n",
    "        u1 = np.argmax(u1_prob)\n",
    "        u2 = np.argmax(u2_prob)\n",
    "        u1_pos = decode_action(u1)\n",
    "        u2_pos = decode_action(u2)\n",
    "        u_pos = np.concatenate( (u1_pos, u2_pos ))\n",
    "        # print('u_pos', u_pos)\n",
    "        # print('x_pat', x_path[ii, :])\n",
    "        x_path[ii+1, :] = x_path[ii, :] + u_pos\n",
    "        # pdb.set_trace()\n",
    "\n",
    "    return x_path\n"
   ]
  },
  {
   "cell_type": "code",
   "execution_count": 86,
   "metadata": {},
   "outputs": [
    {
     "name": "stdout",
     "output_type": "stream",
     "text": [
      "Stage:  0\n",
      "Stage:  1\n",
      "Stage:  2\n",
      "Stage:  3\n",
      "Stage:  4\n"
     ]
    },
    {
     "data": {
      "text/plain": [
       "array([[2., 3., 5., 5.],\n",
       "       [1., 2., 4., 4.],\n",
       "       [2., 2., 3., 3.],\n",
       "       [2., 2., 2., 2.],\n",
       "       [1., 1., 1., 1.],\n",
       "       [0., 0., 0., 0.]])"
      ]
     },
     "execution_count": 86,
     "metadata": {},
     "output_type": "execute_result"
    }
   ],
   "source": [
    "x0_pos = np.array([2, 3, N_grid-1, N_grid-1])\n",
    "x_path = run_game(U_t_p1, U_t_p2, x0_pos, N_grid, T)\n",
    "x_path"
   ]
  },
  {
   "cell_type": "code",
   "execution_count": null,
   "metadata": {},
   "outputs": [],
   "source": []
  },
  {
   "cell_type": "code",
   "execution_count": 82,
   "metadata": {},
   "outputs": [
    {
     "data": {
      "text/plain": [
       "35"
      ]
     },
     "execution_count": 82,
     "metadata": {},
     "output_type": "execute_result"
    }
   ],
   "source": [
    "x_pos_p1 = np.array([0, 0])\n",
    "x_pos_p2 = np.array([N_grid-1, N_grid-1])\n",
    "x_pos = np.concatenate((x_pos_p1, x_pos_p2))\n",
    "\n",
    "x = encode_state(x_pos, N_grid)\n",
    "x"
   ]
  },
  {
   "cell_type": "code",
   "execution_count": 83,
   "metadata": {},
   "outputs": [
    {
     "name": "stdout",
     "output_type": "stream",
     "text": [
      "[0 0 5 5]\n"
     ]
    }
   ],
   "source": [
    "print( decode_state(x, N_grid) )\n"
   ]
  },
  {
   "cell_type": "code",
   "execution_count": 84,
   "metadata": {},
   "outputs": [
    {
     "data": {
      "text/plain": [
       "array([0, 0, 0, 0, 0, 0, 0, 0, 1], dtype=int32)"
      ]
     },
     "execution_count": 84,
     "metadata": {},
     "output_type": "execute_result"
    }
   ],
   "source": [
    "U_t_p1[0, x, :]"
   ]
  },
  {
   "cell_type": "code",
   "execution_count": 85,
   "metadata": {},
   "outputs": [
    {
     "data": {
      "text/plain": [
       "array([1, 0, 0, 0, 0, 0, 0, 0, 0], dtype=int32)"
      ]
     },
     "execution_count": 85,
     "metadata": {},
     "output_type": "execute_result"
    }
   ],
   "source": [
    "U_t_p2[0, x, :]"
   ]
  },
  {
   "cell_type": "code",
   "execution_count": null,
   "metadata": {},
   "outputs": [],
   "source": []
  }
 ],
 "metadata": {
  "kernelspec": {
   "display_name": "Python 3.8.10 ('.venv': venv)",
   "language": "python",
   "name": "python3"
  },
  "language_info": {
   "codemirror_mode": {
    "name": "ipython",
    "version": 3
   },
   "file_extension": ".py",
   "mimetype": "text/x-python",
   "name": "python",
   "nbconvert_exporter": "python",
   "pygments_lexer": "ipython3",
   "version": "3.8.10"
  },
  "orig_nbformat": 4,
  "vscode": {
   "interpreter": {
    "hash": "2bb12f44722aec9848e9ccad4a70686e0f371bf492d7adb8831556489a1eb667"
   }
  }
 },
 "nbformat": 4,
 "nbformat_minor": 2
}
