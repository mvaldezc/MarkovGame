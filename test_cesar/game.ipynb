{
 "cells": [
  {
   "cell_type": "code",
   "execution_count": 20,
   "metadata": {},
   "outputs": [
    {
     "name": "stdout",
     "output_type": "stream",
     "text": [
      "Loading:  T=15--N_grid=7.pkl\n"
     ]
    }
   ],
   "source": [
    "import numpy as np\n",
    "import pickle\n",
    "from solve import encode_state, decode_state, decode_action\n",
    "\n",
    "T = 15\n",
    "N_grid = 7\n",
    "\n",
    "fn = f\"T={T}--N_grid={N_grid}.pkl\"\n",
    "print(\"Loading: \", fn)\n",
    "with open(fn, 'rb') as f:\n",
    "    data_dict = pickle.load(f)\n",
    "\n",
    "U_t_p1 = data_dict[\"U_t_p1\"]\n",
    "U_t_p2 = data_dict[\"U_t_p2\"]\n",
    "N_grid = data_dict[\"N_grid\"]\n",
    "T = data_dict[\"T\"]"
   ]
  },
  {
   "cell_type": "code",
   "execution_count": 24,
   "metadata": {},
   "outputs": [
    {
     "data": {
      "text/plain": [
       "49"
      ]
     },
     "execution_count": 24,
     "metadata": {},
     "output_type": "execute_result"
    },
    {
     "ename": "",
     "evalue": "",
     "output_type": "error",
     "traceback": [
      "\u001b[1;31mThe Kernel crashed while executing code in the the current cell or a previous cell. Please review the code in the cell(s) to identify a possible cause of the failure. Click <a href='https://aka.ms/vscodeJupyterKernelCrash'>here</a> for more info. View Jupyter <a href='command:jupyter.viewOutput'>log</a> for further details."
     ]
    }
   ],
   "source": [
    "x_pos = np.array([0, 1, 0, 0])\n",
    "x = encode_state(x_pos, N_grid)\n",
    "U_t_p2[2, x, :]\n",
    "x"
   ]
  },
  {
   "cell_type": "code",
   "execution_count": 1,
   "metadata": {},
   "outputs": [
    {
     "name": "stdout",
     "output_type": "stream",
     "text": [
      "The 1D array is equal to at least one row in the 2D array.\n"
     ]
    }
   ],
   "source": [
    "import numpy as np\n",
    "\n",
    "def is_equal_to_any_row(arr1D, arr2D):\n",
    "    return np.any(np.all(arr2D == arr1D, axis=1))\n",
    "\n",
    "# Example usage:\n",
    "# 1D array with 2 elements\n",
    "arr_1D = np.array([1, 2])\n",
    "\n",
    "# 2D array with 2 columns and m rows\n",
    "arr_2D = np.array([[1, 2],\n",
    "                   [3, 4],\n",
    "                   [5, 6]])\n",
    "\n",
    "# Check if arr_1D is equal to any row in arr_2D\n",
    "result = is_equal_to_any_row(arr_1D, arr_2D)\n",
    "\n",
    "if result:\n",
    "    print(\"The 1D array is equal to at least one row in the 2D array.\")\n",
    "else:\n",
    "    print(\"The 1D array is not equal to any row in the 2D array.\")\n"
   ]
  },
  {
   "cell_type": "code",
   "execution_count": 7,
   "metadata": {},
   "outputs": [
    {
     "data": {
      "text/plain": [
       "False"
      ]
     },
     "execution_count": 7,
     "metadata": {},
     "output_type": "execute_result"
    }
   ],
   "source": [
    "G_blocked = np.array([\n",
    "    [0, 0],\n",
    "    [1, 1],\n",
    "    [2, 2],\n",
    "])\n",
    "\n",
    "# np.all(x_new == Gblocked)\n",
    "x_new = np.array([0, 0])\n",
    "np.all(x_new == G_blocked)"
   ]
  }
 ],
 "metadata": {
  "kernelspec": {
   "display_name": "Python 3.8.10 ('.venv': venv)",
   "language": "python",
   "name": "python3"
  },
  "language_info": {
   "codemirror_mode": {
    "name": "ipython",
    "version": 3
   },
   "file_extension": ".py",
   "mimetype": "text/x-python",
   "name": "python",
   "nbconvert_exporter": "python",
   "pygments_lexer": "ipython3",
   "version": "3.10.12"
  },
  "orig_nbformat": 4,
  "vscode": {
   "interpreter": {
    "hash": "2bb12f44722aec9848e9ccad4a70686e0f371bf492d7adb8831556489a1eb667"
   }
  }
 },
 "nbformat": 4,
 "nbformat_minor": 2
}
