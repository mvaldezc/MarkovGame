{
 "cells": [
  {
   "cell_type": "code",
   "execution_count": 12,
   "metadata": {},
   "outputs": [
    {
     "name": "stdout",
     "output_type": "stream",
     "text": [
      "Loading:  T=15--N_grid=7.pkl\n"
     ]
    }
   ],
   "source": [
    "import numpy as np\n",
    "import pickle\n",
    "from solve import encode_state, decode_state, decode_action\n",
    "\n",
    "T = 15\n",
    "N_grid = 7\n",
    "\n",
    "fn = f\"T={T}--N_grid={N_grid}.pkl\"\n",
    "print(\"Loading: \", fn)\n",
    "with open(fn, 'rb') as f:\n",
    "    data_dict = pickle.load(f)\n",
    "\n",
    "U_t_p1 = data_dict[\"U_t_p1\"]\n",
    "U_t_p2 = data_dict[\"U_t_p2\"]\n",
    "N_grid = data_dict[\"N_grid\"]\n",
    "T = data_dict[\"T\"]"
   ]
  },
  {
   "cell_type": "code",
   "execution_count": 11,
   "metadata": {},
   "outputs": [
    {
     "data": {
      "text/plain": [
       "(15, 2401, 9)"
      ]
     },
     "execution_count": 11,
     "metadata": {},
     "output_type": "execute_result"
    }
   ],
   "source": []
  },
  {
   "cell_type": "code",
   "execution_count": null,
   "metadata": {},
   "outputs": [],
   "source": []
  },
  {
   "cell_type": "code",
   "execution_count": null,
   "metadata": {},
   "outputs": [],
   "source": []
  },
  {
   "cell_type": "code",
   "execution_count": null,
   "metadata": {},
   "outputs": [],
   "source": []
  },
  {
   "cell_type": "code",
   "execution_count": null,
   "metadata": {},
   "outputs": [],
   "source": []
  },
  {
   "cell_type": "code",
   "execution_count": null,
   "metadata": {},
   "outputs": [],
   "source": []
  }
 ],
 "metadata": {
  "kernelspec": {
   "display_name": "Python 3.8.10 ('.venv': venv)",
   "language": "python",
   "name": "python3"
  },
  "language_info": {
   "codemirror_mode": {
    "name": "ipython",
    "version": 3
   },
   "file_extension": ".py",
   "mimetype": "text/x-python",
   "name": "python",
   "nbconvert_exporter": "python",
   "pygments_lexer": "ipython3",
   "version": "3.10.12"
  },
  "orig_nbformat": 4,
  "vscode": {
   "interpreter": {
    "hash": "2bb12f44722aec9848e9ccad4a70686e0f371bf492d7adb8831556489a1eb667"
   }
  }
 },
 "nbformat": 4,
 "nbformat_minor": 2
}
